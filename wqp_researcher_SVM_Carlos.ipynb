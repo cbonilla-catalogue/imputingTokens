{
 "cells": [
  {
   "cell_type": "markdown",
   "metadata": {
    "id": "Cp2AgXkc_G02"
   },
   "source": [
    "## Problem context\n",
    "\n",
    "An English document has been corrupted in an unusual manner. Each alphabetic word (no numbers, but apostrophes allowed) has had every other character replaced with a `#` character. For example, a sentence like\n",
    "```\n",
    "I'm here. It's a cat.\n",
    "```\n",
    "would appear in the document as\n",
    "```\n",
    "I#m h#r#. I#'# a c#t.\n",
    "```\n",
    "\n",
    "We have extracted the tokens from this corrupted document and have provided the list of tokens to you as `corrupted_tokens.txt`. Note that the order of tokens in the list is the same as how they appeared in the original document, and that surrounding punctuation like `.` and `,` have been removed.\n",
    "\n",
    "As an example, if the uncorrupted document is:\n",
    "```\n",
    "I'm here. It's a cat.\n",
    "```\n",
    "the its corresponding corruption followed by tokenization would be:\n",
    "```\n",
    "I#m\n",
    "h#r#\n",
    "I#'#\n",
    "a\n",
    "c#t\n",
    "```"
   ]
  },
  {
   "cell_type": "code",
   "execution_count": 725,
   "metadata": {},
   "outputs": [],
   "source": [
    "import pandas as pd\n",
    "import numpy as np\n",
    "import plotly.express as px\n",
    "import statsmodels.api as sm\n",
    "import statsmodels.formula.api as smf\n",
    "from sklearn import datasets, svm, metrics\n",
    "from sklearn.model_selection import train_test_split\n",
    "import matplotlib.pyplot as plt\n",
    "import pickle\n",
    "from spellchecker import SpellChecker\n",
    "from textblob import TextBlob"
   ]
  },
  {
   "cell_type": "code",
   "execution_count": 2,
   "metadata": {
    "id": "_DWv-d6c_G08"
   },
   "outputs": [],
   "source": [
    "# read in corrupted tokens\n",
    "#changed example to make all text lower case\n",
    "\n",
    "CORRUPTED_TOKENS = []\n",
    "\n",
    "with open('corrupted_tokens.txt', 'r', encoding='utf-8') as f:\n",
    "    for line in f:\n",
    "        tok = line.strip()\n",
    "        CORRUPTED_TOKENS.append(tok.lower())\n",
    "        \n",
    "TRAINING_TOKENS = []\n",
    "with open('training_tokens.txt', 'r', encoding='utf-8') as f:\n",
    "    for line in f:\n",
    "        tok = line.strip()\n",
    "        TRAINING_TOKENS.append(tok.lower())"
   ]
  },
  {
   "cell_type": "markdown",
   "metadata": {
    "id": "qH4HVUA1_QRf"
   },
   "source": [
    "# New Section"
   ]
  },
  {
   "cell_type": "markdown",
   "metadata": {
    "id": "rLvRWOH2_G0_"
   },
   "source": [
    "## Task\n",
    "\n",
    "Try to recover the corrupted tokens as best you can and write your guess of the original tokens to a file `recovered_tokens.txt`, one token per line. Each line in `recovered_tokens.txt` should match its corresponding line in `corrupted_tokens.txt`.\n",
    "\n",
    "To enable you to do this, you are given a tokenization of an uncorrupted training document, i.e. the `training_tokens.txt` file. This file also one token per line and its tokens appear in the same order as in the uncorrupted training document. You can use this along with whatever external material you deem necessary to inform your recovery of the corrupted tokens.\n",
    "\n",
    "You may use whatever language and/or tools you deem necessary.\n",
    "\n",
    "Please submit your solution consisting of:\n",
    "1. your `recovered_tokens.txt` file. This should contain the same number of tokens/lines as `corrupted_tokens.txt`. Additionally, case is not important for the recovered tokens, i.e. we treat `Prince` the same as `prince` the same as `PRINCE` .\n",
    "2. your code for your attempt in recovering the corrupted tokens\n",
    "3. a short write-up of your methodology"
   ]
  },
  {
   "cell_type": "markdown",
   "metadata": {
    "id": "MQe9j9DS_G1B"
   },
   "source": [
    "## Carlos Bonilla solution"
   ]
  },
  {
   "cell_type": "code",
   "execution_count": 721,
   "metadata": {},
   "outputs": [],
   "source": [
    "#Create a datas attribute with the available data\n",
    "def featureEngineering(df):\n",
    "    df['corruptedTokenLength']=df['corruptedToken'].astype(str).apply(len)\n",
    "    df['corruptedTokenFirstLetter'] = df['corruptedToken'].astype(str).str[0]\n",
    "    df['nextCorruptedToken'] = df['corruptedToken'].shift(-1)\n",
    "    df['nextCorruptedToken2'] = df['corruptedToken'].shift(-2)\n",
    "    df['nextCorruptedToken3'] = df['corruptedToken'].shift(-3)\n",
    "    df['previousCorruptedToken'] = df['corruptedToken'].shift(1)\n",
    "    df['previousCorruptedToken2'] = df['corruptedToken'].shift(2)\n",
    "    df['previousCorruptedToken3'] = df['corruptedToken'].shift(3)\n",
    "    df['nextLength'] = df['nextCorruptedToken'].astype(str).apply(len)\n",
    "    df['next2Length'] = df['nextCorruptedToken2'].astype(str).apply(len)\n",
    "    df['next3Length'] = df['nextCorruptedToken3'].astype(str).apply(len)\n",
    "    df['previousLength'] = df['previousCorruptedToken'].astype(str).apply(len)\n",
    "    df['previous2Length'] = df['previousCorruptedToken2'].astype(str).apply(len)\n",
    "    df['previous3Length'] = df['previousCorruptedToken3'].astype(str).apply(len)\n",
    "    df['nextFirstLetter'] = df['nextCorruptedToken'].astype(str).str[0]\n",
    "    df['nextFirstLetter2'] = df['nextCorruptedToken2'].astype(str).str[0]\n",
    "    df['nextFirstLetter3'] = df['nextCorruptedToken3'].astype(str).str[0]\n",
    "    df['previousFirstLetter'] = df['previousCorruptedToken'].astype(str).str[0]\n",
    "    df['previousFirstLetter2'] = df['previousCorruptedToken2'].astype(str).str[0]\n",
    "    df['previousFirstLetter3'] = df['previousCorruptedToken3'].astype(str).str[0]\n",
    "    return df\n",
    "\n",
    "def dummy_predictor(corrupted_token):\n",
    "    return corrupted_token.lower().replace('#', 'e')"
   ]
  },
  {
   "cell_type": "code",
   "execution_count": 332,
   "metadata": {
    "id": "ozbAE6Xy_G1G"
   },
   "outputs": [],
   "source": [
    "#Convert CORRUPTED_TOKENS list to dataframe for easier manipulation\n",
    "corrupted_df = pd.DataFrame(CORRUPTED_TOKENS,columns =['corruptedToken'])\n",
    "\n",
    "#Create a data attributes with the corrupted tokens\n",
    "corrupted_df = featureEngineering(corrupted_df)\n",
    "\n",
    "#Vissualy inspect the new Length attribute\n",
    "#corrupted_df.groupby(['length']).size()\n",
    "\n",
    "#Observations to note\n",
    "##The longest token is 17 strings long\n",
    "##The one length tokens have no corruption \n",
    "\n",
    "##We can 'cheat' with this loop because we know that every other letter is\n",
    "##corrupted and the length of the longest token but a more general model\n",
    "##would require different logic\n",
    "for y in (0,2,4,6,8,10,12,14,16):\n",
    "  name = str('letterPosition_'+str(y))\n",
    "  corrupted_df[name] = corrupted_df['corruptedToken'].astype(str).str[y]"
   ]
  },
  {
   "cell_type": "code",
   "execution_count": 334,
   "metadata": {},
   "outputs": [],
   "source": [
    "#create a dataframe of all unique groups of first letter corrupted tokens and corruptedTokenLength\n",
    "corruptedTokenList = corrupted_df[['corruptedTokenLength','letterPosition_0',]].drop_duplicates()\n",
    "\n",
    "#Visually inspect the corruptedToken attribute\n",
    "#corrupted_Summary = corrupted_df[['corruptedToken','corruptedTokenLength']].groupby(['corruptedToken']).count().reset_index()[['corruptedToken','corruptedTokenLength']].sort_values('corruptedTokenLength',ascending=False)\n",
    "#fig = px.bar(corrupted_Summary[0:40], x='corruptedToken', y='length')\n",
    "#fig.show()\n",
    "\n",
    "#Observations to note\n",
    "##The most common words are probably filler words like the, it and and\n",
    "##With that said there could be instances of tea, in and add so will need\n",
    "##to find a way to consider those cases\n",
    "##For corrupted tokens with only one observation it might make sense to make\n",
    "##a brute search in the training dataset"
   ]
  },
  {
   "cell_type": "code",
   "execution_count": 335,
   "metadata": {
    "id": "KjGxOrRB_G1L"
   },
   "outputs": [],
   "source": [
    "#Let's replicate creating features for the TRAINING_TOKENS data like we did for \n",
    "#the CORRUPTED_TOKENS for training purposes\n",
    "training_df = pd.DataFrame(TRAINING_TOKENS,columns =['trainingToken'])\n",
    "training_df['trainingToken'] = training_df['trainingToken'].astype('category')\n",
    "\n",
    "#Create a corrupted token\n",
    "def Convert(string):\n",
    "    list1=[]\n",
    "    list1[:0]=string\n",
    "\n",
    "    for i in range(0,len(list1)):\n",
    "      if (i % 2) != 0:\n",
    "        list1[i]='#'\n",
    "    return ''.join(str(i) for i in list1)\n",
    "\n",
    "test = []\n",
    "for y in range(0,len(TRAINING_TOKENS)):\n",
    "    corruption = Convert(TRAINING_TOKENS[y])\n",
    "    test.append(corruption)\n",
    "    \n",
    "training_df['corruptedToken'] = test\n",
    "training_df['corruptedToken'] = training_df['corruptedToken'].astype('category')\n",
    "\n",
    "#Create a data attributes with the available data\n",
    "training_df = featureEngineering(training_df)\n",
    "\n",
    "#Let's remove all single length tokens since we won't be using them\n",
    "training_df = training_df.loc[training_df['corruptedTokenLength'] > 1] \n",
    "#Let's also remove all tokens of length longer than 17 since they don't exist in \n",
    "#the corrupted dataset\n",
    "training_df = training_df.loc[training_df['corruptedTokenLength'] < 18]\n",
    "\n",
    "#create a corrupted version of the training set\n",
    "#training_df['sampleCorruptedToken'] = training_df['trainingToken']"
   ]
  },
  {
   "cell_type": "code",
   "execution_count": 337,
   "metadata": {},
   "outputs": [],
   "source": [
    "#Function to letter position variables for training every unique combination in corruptedTokenList\n",
    "def trainingSets(df,corruptedTokenLength,corruptedTokenFirstLetter):\n",
    "    temp = df.loc[df['corruptedTokenLength'] == corruptedTokenLength].loc[df['corruptedTokenFirstLetter'] == corruptedTokenFirstLetter]\n",
    "    for y in np.arange(0,corruptedTokenLength,2):\n",
    "        name = str('letterPosition_'+str(y))\n",
    "        temp[name] = temp['corruptedToken'].astype(str).str[y]\n",
    "    temp = temp.drop(columns=['nextCorruptedToken','nextCorruptedToken2','nextCorruptedToken3','previousCorruptedToken',\n",
    "                              'previousCorruptedToken2','previousCorruptedToken3'])\n",
    "    return temp.replace([\"'\",'a', 'b', 'c', 'd','e','f','g','h','i','j','k','l','m','n','o','p','q','r','s','t','u','v','w','x','y','z'], [27,1, 2, 3, 4,5,6,7,8,9,10,11,12,13,14,15,16,17,18,19,20,21,22,23,24,25,26])"
   ]
  },
  {
   "cell_type": "code",
   "execution_count": 342,
   "metadata": {},
   "outputs": [],
   "source": [
    "#Loop to create a list of dataframes, maintaining the same order as the corruptedTokenList\n",
    "traingSetDataframes = []\n",
    "for i in range(0,len(corruptedTokenList)):\n",
    "    setDf = trainingSets(df=training_df,corruptedTokenLength=corruptedTokenList.iloc[i,[0,1]][0],corruptedTokenFirstLetter=corruptedTokenList.iloc[i,[0,1]][1])\n",
    "    traingSetDataframes.append(setDf)"
   ]
  },
  {
   "cell_type": "code",
   "execution_count": 377,
   "metadata": {},
   "outputs": [],
   "source": [
    "#function to fit a scikit learn SVM given a dataframe created from trainingSets \n",
    "def runSVM(df):\n",
    "    X_train = df.drop_duplicates().drop(columns=['trainingToken','corruptedToken','corruptedTokenFirstLetter'])\n",
    "    y_train = df.drop_duplicates()[['trainingToken']]\n",
    "    clf = svm.SVC(gamma=0.001)\n",
    "    return (clf.fit(X_train, y_train.values.ravel()),X_train,y_train)"
   ]
  },
  {
   "cell_type": "code",
   "execution_count": 378,
   "metadata": {},
   "outputs": [],
   "source": [
    "traingModels = []\n",
    "\n",
    "for i in range(0,303):\n",
    "    try:\n",
    "        x = runSVM(traingSetDataframes[i])\n",
    "        traingModels.append(x)\n",
    "    except ValueError:\n",
    "        x = 'TRAINING FAILED'\n",
    "        traingModels.append(x)"
   ]
  },
  {
   "cell_type": "code",
   "execution_count": 757,
   "metadata": {},
   "outputs": [],
   "source": [
    "filename = 'finalized_model.sav'\n",
    "pickle.dump(traingModels, open(filename, 'wb'))"
   ]
  },
  {
   "cell_type": "code",
   "execution_count": 367,
   "metadata": {},
   "outputs": [],
   "source": [
    "#loaded_model = pickle.load(open(filename, 'rb'))"
   ]
  },
  {
   "cell_type": "code",
   "execution_count": null,
   "metadata": {},
   "outputs": [],
   "source": [
    "df_TEMP = traingSetDataframes[0][['corruptedTokenLength','letterPosition_0']].drop_duplicates().values.tolist()[0]\n",
    "d = {'ModelNumber': [0], 'corruptedTokenLength': [df_TEMP[0]],'letterPosition_0': [df_TEMP[1]]}\n",
    "trainingModelIndex = pd.DataFrame(data=d)\n",
    "\n",
    "for i in range(1,303):\n",
    "    try:\n",
    "        df = traingSetDataframes[i][['corruptedTokenLength','letterPosition_0']].drop_duplicates().values.tolist()[0]\n",
    "        d = {'ModelNumber': [i], 'corruptedTokenLength': [df[0]],'letterPosition_0': [df[1]]}\n",
    "        df = pd.DataFrame(data=d)\n",
    "    except IndexError:\n",
    "        d = {'ModelNumber': [i], 'corruptedTokenLength': [0],'letterPosition_0': [0]}\n",
    "        df = pd.DataFrame(data=d)\n",
    "    trainingModelIndex = trainingModelIndex.append(pd.DataFrame(data=d))"
   ]
  },
  {
   "cell_type": "code",
   "execution_count": 767,
   "metadata": {},
   "outputs": [],
   "source": [
    "#Function to create dataframes for predicting the corruptedTokens\n",
    "def predictFormat(corruptedTokenDf,position):\n",
    "    df = corruptedTokenDf.iloc[position,].drop(labels=['corruptedTokenFirstLetter','nextCorruptedToken','nextCorruptedToken2','nextCorruptedToken3','previousCorruptedToken',\n",
    "                              'previousCorruptedToken2','previousCorruptedToken3'])\n",
    "    \n",
    "    toDrop = []   \n",
    "    for y in np.arange(round(df['corruptedTokenLength']/2.)*2,18,2):\n",
    "        name = str('letterPosition_'+str(y))\n",
    "        toDrop.append(name)\n",
    "    \n",
    "    df = df.drop(labels=toDrop)\n",
    "    \n",
    "    return df\n"
   ]
  },
  {
   "cell_type": "code",
   "execution_count": 774,
   "metadata": {},
   "outputs": [],
   "source": [
    "def findModel(corruptedFormatted):\n",
    "    letterPosition_0 = corruptedFormatted['letterPosition_0']\n",
    "    corruptedTokenLength = corruptedFormatted['corruptedTokenLength']\n",
    "    corruptedFormatted = corruptedFormatted.replace([\"'\",'a', 'b', 'c', 'd','e','f','g','h','i','j','k','l','m','n','o','p','q','r','s','t','u','v','w','x','y','z'], [27,1, 2, 3, 4,5,6,7,8,9,10,11,12,13,14,15,16,17,18,19,20,21,22,23,24,25,26])\n",
    "    index = trainingModelIndex.loc[(trainingModelIndex['letterPosition_0']==corruptedFormatted['letterPosition_0']) & (trainingModelIndex['corruptedTokenLength']==corruptedFormatted['corruptedTokenLength'])]\n",
    "    model = traingModels[index['ModelNumber'][0]]\n",
    "    return model"
   ]
  },
  {
   "cell_type": "code",
   "execution_count": 787,
   "metadata": {},
   "outputs": [],
   "source": [
    "#predict a Token given the ouput of predictFormat(corruptedTokenDf,position)\n",
    "def predictToken(corruptedFormatted):\n",
    "    try:\n",
    "        letterPosition_0 = corruptedFormatted['letterPosition_0']\n",
    "        corruptedTokenLength = corruptedFormatted['corruptedTokenLength']\n",
    "        corruptedFormatted = corruptedFormatted.replace([\"'\",'a', 'b', 'c', 'd','e','f','g','h','i','j','k','l','m','n','o','p','q','r','s','t','u','v','w','x','y','z'], [27,1, 2, 3, 4,5,6,7,8,9,10,11,12,13,14,15,16,17,18,19,20,21,22,23,24,25,26])\n",
    "        index = trainingModelIndex.loc[(trainingModelIndex['letterPosition_0']==corruptedFormatted['letterPosition_0']) & (trainingModelIndex['corruptedTokenLength']==corruptedFormatted['corruptedTokenLength'])]\n",
    "        model = traingModels[index['ModelNumber'][0]][0]\n",
    "        corruptedFormatted_NEW = corruptedFormatted.drop(labels=['corruptedToken'])\n",
    "        predicted = model.predict(corruptedFormatted_NEW.values.reshape(1, -1))[0]\n",
    "    except:\n",
    "        predicted = corruptedFormatted['corruptedToken']\n",
    "    return predicted"
   ]
  },
  {
   "cell_type": "code",
   "execution_count": 800,
   "metadata": {},
   "outputs": [
    {
     "ename": "IndexError",
     "evalue": "single positional indexer is out-of-bounds",
     "output_type": "error",
     "traceback": [
      "\u001b[1;31m---------------------------------------------------------------------------\u001b[0m",
      "\u001b[1;31mIndexError\u001b[0m                                Traceback (most recent call last)",
      "\u001b[1;32m<ipython-input-800-2e18938e7a81>\u001b[0m in \u001b[0;36m<module>\u001b[1;34m\u001b[0m\n\u001b[0;32m      1\u001b[0m \u001b[1;31m#outputTokensNEW = []\u001b[0m\u001b[1;33m\u001b[0m\u001b[1;33m\u001b[0m\u001b[1;33m\u001b[0m\u001b[0m\n\u001b[0;32m      2\u001b[0m \u001b[1;32mfor\u001b[0m \u001b[0mi\u001b[0m \u001b[1;32min\u001b[0m \u001b[0mrange\u001b[0m\u001b[1;33m(\u001b[0m\u001b[1;36m24000\u001b[0m\u001b[1;33m,\u001b[0m\u001b[1;36m29294\u001b[0m\u001b[1;33m)\u001b[0m\u001b[1;33m:\u001b[0m\u001b[1;33m\u001b[0m\u001b[1;33m\u001b[0m\u001b[0m\n\u001b[1;32m----> 3\u001b[1;33m     \u001b[0mpredictionAttempt\u001b[0m \u001b[1;33m=\u001b[0m \u001b[0mpredictToken\u001b[0m\u001b[1;33m(\u001b[0m\u001b[0mpredictFormat\u001b[0m\u001b[1;33m(\u001b[0m\u001b[0mcorruptedTokenDf\u001b[0m\u001b[1;33m=\u001b[0m\u001b[0mcorrupted_df\u001b[0m\u001b[1;33m,\u001b[0m\u001b[0mposition\u001b[0m\u001b[1;33m=\u001b[0m\u001b[0mi\u001b[0m\u001b[1;33m)\u001b[0m\u001b[1;33m)\u001b[0m\u001b[1;33m\u001b[0m\u001b[1;33m\u001b[0m\u001b[0m\n\u001b[0m\u001b[0;32m      4\u001b[0m     \u001b[0moutputTokensNEW\u001b[0m\u001b[1;33m.\u001b[0m\u001b[0mappend\u001b[0m\u001b[1;33m(\u001b[0m\u001b[0mpredictionAttempt\u001b[0m\u001b[1;33m)\u001b[0m\u001b[1;33m\u001b[0m\u001b[1;33m\u001b[0m\u001b[0m\n",
      "\u001b[1;32m<ipython-input-767-c9835814973f>\u001b[0m in \u001b[0;36mpredictFormat\u001b[1;34m(corruptedTokenDf, position)\u001b[0m\n\u001b[0;32m      1\u001b[0m \u001b[1;31m#Function to create dataframes for predicting the corruptedTokens\u001b[0m\u001b[1;33m\u001b[0m\u001b[1;33m\u001b[0m\u001b[1;33m\u001b[0m\u001b[0m\n\u001b[0;32m      2\u001b[0m \u001b[1;32mdef\u001b[0m \u001b[0mpredictFormat\u001b[0m\u001b[1;33m(\u001b[0m\u001b[0mcorruptedTokenDf\u001b[0m\u001b[1;33m,\u001b[0m\u001b[0mposition\u001b[0m\u001b[1;33m)\u001b[0m\u001b[1;33m:\u001b[0m\u001b[1;33m\u001b[0m\u001b[1;33m\u001b[0m\u001b[0m\n\u001b[1;32m----> 3\u001b[1;33m     df = corruptedTokenDf.iloc[position,].drop(labels=['corruptedTokenFirstLetter','nextCorruptedToken','nextCorruptedToken2','nextCorruptedToken3','previousCorruptedToken',\n\u001b[0m\u001b[0;32m      4\u001b[0m                               'previousCorruptedToken2','previousCorruptedToken3'])\n\u001b[0;32m      5\u001b[0m \u001b[1;33m\u001b[0m\u001b[0m\n",
      "\u001b[1;32m~\\Anaconda3\\envs\\dash_examples\\lib\\site-packages\\pandas\\core\\indexing.py\u001b[0m in \u001b[0;36m__getitem__\u001b[1;34m(self, key)\u001b[0m\n\u001b[0;32m    871\u001b[0m                     \u001b[1;31m# AttributeError for IntervalTree get_value\u001b[0m\u001b[1;33m\u001b[0m\u001b[1;33m\u001b[0m\u001b[1;33m\u001b[0m\u001b[0m\n\u001b[0;32m    872\u001b[0m                     \u001b[1;32mpass\u001b[0m\u001b[1;33m\u001b[0m\u001b[1;33m\u001b[0m\u001b[0m\n\u001b[1;32m--> 873\u001b[1;33m             \u001b[1;32mreturn\u001b[0m \u001b[0mself\u001b[0m\u001b[1;33m.\u001b[0m\u001b[0m_getitem_tuple\u001b[0m\u001b[1;33m(\u001b[0m\u001b[0mkey\u001b[0m\u001b[1;33m)\u001b[0m\u001b[1;33m\u001b[0m\u001b[1;33m\u001b[0m\u001b[0m\n\u001b[0m\u001b[0;32m    874\u001b[0m         \u001b[1;32melse\u001b[0m\u001b[1;33m:\u001b[0m\u001b[1;33m\u001b[0m\u001b[1;33m\u001b[0m\u001b[0m\n\u001b[0;32m    875\u001b[0m             \u001b[1;31m# we by definition only have the 0th axis\u001b[0m\u001b[1;33m\u001b[0m\u001b[1;33m\u001b[0m\u001b[1;33m\u001b[0m\u001b[0m\n",
      "\u001b[1;32m~\\Anaconda3\\envs\\dash_examples\\lib\\site-packages\\pandas\\core\\indexing.py\u001b[0m in \u001b[0;36m_getitem_tuple\u001b[1;34m(self, tup)\u001b[0m\n\u001b[0;32m   1441\u001b[0m     \u001b[1;32mdef\u001b[0m \u001b[0m_getitem_tuple\u001b[0m\u001b[1;33m(\u001b[0m\u001b[0mself\u001b[0m\u001b[1;33m,\u001b[0m \u001b[0mtup\u001b[0m\u001b[1;33m:\u001b[0m \u001b[0mTuple\u001b[0m\u001b[1;33m)\u001b[0m\u001b[1;33m:\u001b[0m\u001b[1;33m\u001b[0m\u001b[1;33m\u001b[0m\u001b[0m\n\u001b[0;32m   1442\u001b[0m \u001b[1;33m\u001b[0m\u001b[0m\n\u001b[1;32m-> 1443\u001b[1;33m         \u001b[0mself\u001b[0m\u001b[1;33m.\u001b[0m\u001b[0m_has_valid_tuple\u001b[0m\u001b[1;33m(\u001b[0m\u001b[0mtup\u001b[0m\u001b[1;33m)\u001b[0m\u001b[1;33m\u001b[0m\u001b[1;33m\u001b[0m\u001b[0m\n\u001b[0m\u001b[0;32m   1444\u001b[0m         \u001b[1;32mtry\u001b[0m\u001b[1;33m:\u001b[0m\u001b[1;33m\u001b[0m\u001b[1;33m\u001b[0m\u001b[0m\n\u001b[0;32m   1445\u001b[0m             \u001b[1;32mreturn\u001b[0m \u001b[0mself\u001b[0m\u001b[1;33m.\u001b[0m\u001b[0m_getitem_lowerdim\u001b[0m\u001b[1;33m(\u001b[0m\u001b[0mtup\u001b[0m\u001b[1;33m)\u001b[0m\u001b[1;33m\u001b[0m\u001b[1;33m\u001b[0m\u001b[0m\n",
      "\u001b[1;32m~\\Anaconda3\\envs\\dash_examples\\lib\\site-packages\\pandas\\core\\indexing.py\u001b[0m in \u001b[0;36m_has_valid_tuple\u001b[1;34m(self, key)\u001b[0m\n\u001b[0;32m    700\u001b[0m                 \u001b[1;32mraise\u001b[0m \u001b[0mIndexingError\u001b[0m\u001b[1;33m(\u001b[0m\u001b[1;34m\"Too many indexers\"\u001b[0m\u001b[1;33m)\u001b[0m\u001b[1;33m\u001b[0m\u001b[1;33m\u001b[0m\u001b[0m\n\u001b[0;32m    701\u001b[0m             \u001b[1;32mtry\u001b[0m\u001b[1;33m:\u001b[0m\u001b[1;33m\u001b[0m\u001b[1;33m\u001b[0m\u001b[0m\n\u001b[1;32m--> 702\u001b[1;33m                 \u001b[0mself\u001b[0m\u001b[1;33m.\u001b[0m\u001b[0m_validate_key\u001b[0m\u001b[1;33m(\u001b[0m\u001b[0mk\u001b[0m\u001b[1;33m,\u001b[0m \u001b[0mi\u001b[0m\u001b[1;33m)\u001b[0m\u001b[1;33m\u001b[0m\u001b[1;33m\u001b[0m\u001b[0m\n\u001b[0m\u001b[0;32m    703\u001b[0m             \u001b[1;32mexcept\u001b[0m \u001b[0mValueError\u001b[0m \u001b[1;32mas\u001b[0m \u001b[0merr\u001b[0m\u001b[1;33m:\u001b[0m\u001b[1;33m\u001b[0m\u001b[1;33m\u001b[0m\u001b[0m\n\u001b[0;32m    704\u001b[0m                 raise ValueError(\n",
      "\u001b[1;32m~\\Anaconda3\\envs\\dash_examples\\lib\\site-packages\\pandas\\core\\indexing.py\u001b[0m in \u001b[0;36m_validate_key\u001b[1;34m(self, key, axis)\u001b[0m\n\u001b[0;32m   1350\u001b[0m             \u001b[1;32mreturn\u001b[0m\u001b[1;33m\u001b[0m\u001b[1;33m\u001b[0m\u001b[0m\n\u001b[0;32m   1351\u001b[0m         \u001b[1;32melif\u001b[0m \u001b[0mis_integer\u001b[0m\u001b[1;33m(\u001b[0m\u001b[0mkey\u001b[0m\u001b[1;33m)\u001b[0m\u001b[1;33m:\u001b[0m\u001b[1;33m\u001b[0m\u001b[1;33m\u001b[0m\u001b[0m\n\u001b[1;32m-> 1352\u001b[1;33m             \u001b[0mself\u001b[0m\u001b[1;33m.\u001b[0m\u001b[0m_validate_integer\u001b[0m\u001b[1;33m(\u001b[0m\u001b[0mkey\u001b[0m\u001b[1;33m,\u001b[0m \u001b[0maxis\u001b[0m\u001b[1;33m)\u001b[0m\u001b[1;33m\u001b[0m\u001b[1;33m\u001b[0m\u001b[0m\n\u001b[0m\u001b[0;32m   1353\u001b[0m         \u001b[1;32melif\u001b[0m \u001b[0misinstance\u001b[0m\u001b[1;33m(\u001b[0m\u001b[0mkey\u001b[0m\u001b[1;33m,\u001b[0m \u001b[0mtuple\u001b[0m\u001b[1;33m)\u001b[0m\u001b[1;33m:\u001b[0m\u001b[1;33m\u001b[0m\u001b[1;33m\u001b[0m\u001b[0m\n\u001b[0;32m   1354\u001b[0m             \u001b[1;31m# a tuple should already have been caught by this point\u001b[0m\u001b[1;33m\u001b[0m\u001b[1;33m\u001b[0m\u001b[1;33m\u001b[0m\u001b[0m\n",
      "\u001b[1;32m~\\Anaconda3\\envs\\dash_examples\\lib\\site-packages\\pandas\\core\\indexing.py\u001b[0m in \u001b[0;36m_validate_integer\u001b[1;34m(self, key, axis)\u001b[0m\n\u001b[0;32m   1435\u001b[0m         \u001b[0mlen_axis\u001b[0m \u001b[1;33m=\u001b[0m \u001b[0mlen\u001b[0m\u001b[1;33m(\u001b[0m\u001b[0mself\u001b[0m\u001b[1;33m.\u001b[0m\u001b[0mobj\u001b[0m\u001b[1;33m.\u001b[0m\u001b[0m_get_axis\u001b[0m\u001b[1;33m(\u001b[0m\u001b[0maxis\u001b[0m\u001b[1;33m)\u001b[0m\u001b[1;33m)\u001b[0m\u001b[1;33m\u001b[0m\u001b[1;33m\u001b[0m\u001b[0m\n\u001b[0;32m   1436\u001b[0m         \u001b[1;32mif\u001b[0m \u001b[0mkey\u001b[0m \u001b[1;33m>=\u001b[0m \u001b[0mlen_axis\u001b[0m \u001b[1;32mor\u001b[0m \u001b[0mkey\u001b[0m \u001b[1;33m<\u001b[0m \u001b[1;33m-\u001b[0m\u001b[0mlen_axis\u001b[0m\u001b[1;33m:\u001b[0m\u001b[1;33m\u001b[0m\u001b[1;33m\u001b[0m\u001b[0m\n\u001b[1;32m-> 1437\u001b[1;33m             \u001b[1;32mraise\u001b[0m \u001b[0mIndexError\u001b[0m\u001b[1;33m(\u001b[0m\u001b[1;34m\"single positional indexer is out-of-bounds\"\u001b[0m\u001b[1;33m)\u001b[0m\u001b[1;33m\u001b[0m\u001b[1;33m\u001b[0m\u001b[0m\n\u001b[0m\u001b[0;32m   1438\u001b[0m \u001b[1;33m\u001b[0m\u001b[0m\n\u001b[0;32m   1439\u001b[0m     \u001b[1;31m# -------------------------------------------------------------------\u001b[0m\u001b[1;33m\u001b[0m\u001b[1;33m\u001b[0m\u001b[1;33m\u001b[0m\u001b[0m\n",
      "\u001b[1;31mIndexError\u001b[0m: single positional indexer is out-of-bounds"
     ]
    }
   ],
   "source": [
    "#outputTokensNEW = []\n",
    "for i in range(0,29293):\n",
    "    predictionAttempt = predictToken(predictFormat(corruptedTokenDf=corrupted_df,position=i))\n",
    "    outputTokensNEW.append(predictionAttempt)"
   ]
  },
  {
   "cell_type": "code",
   "execution_count": 755,
   "metadata": {},
   "outputs": [],
   "source": [
    "Predictionsfilename = 'finalizedPredictions.sav'\n",
    "pickle.dump(outputTokens, open(Predictionsfilename, 'wb'))"
   ]
  },
  {
   "cell_type": "code",
   "execution_count": 756,
   "metadata": {},
   "outputs": [],
   "source": [
    "loadedPredictions = pickle.load(open(filename, 'rb'))"
   ]
  },
  {
   "cell_type": "code",
   "execution_count": 32,
   "metadata": {},
   "outputs": [
    {
     "data": {
      "image/png": "[encoded data removed]",
      "text/plain": [
       "<Figure size 1440x1440 with 2 Axes>"
      ]
     },
     "metadata": {
      "needs_background": "light"
     },
     "output_type": "display_data"
    }
   ],
   "source": [
    "fig, ax = plt.subplots(figsize=(20, 20))\n",
    "disp = metrics.plot_confusion_matrix(runSVM(traingSetDataframes[286])[0], runSVM(traingSetDataframes[286])[1], runSVM(traingSetDataframes[286])[2],ax=ax)\n",
    "disp.figure_.suptitle(\"Confusion Matrix\")\n",
    "plt.show()"
   ]
  },
  {
   "cell_type": "code",
   "execution_count": null,
   "metadata": {},
   "outputs": [],
   "source": [
    "MyFile=open('outputCarlos.txt','w')\n",
    "\n",
    "for element in outputTokensNEW:\n",
    "     MyFile.write(element)\n",
    "     MyFile.write('\\n')\n",
    "MyFile.close()"
   ]
  }
 ],
 "metadata": {
  "colab": {
   "collapsed_sections": [],
   "name": "wqp_researcher_prog_test.ipynb",
   "provenance": []
  },
  "interpreter": {
   "hash": "57baa5815c940fdaff4d14510622de9616cae602444507ba5d0b6727c008cbd6"
  },
  "kernelspec": {
   "display_name": "Python 3",
   "language": "python",
   "name": "python3"
  },
  "language_info": {
   "codemirror_mode": {
    "name": "ipython",
    "version": 3
   },
   "file_extension": ".py",
   "mimetype": "text/x-python",
   "name": "python",
   "nbconvert_exporter": "python",
   "pygments_lexer": "ipython3",
   "version": "3.8.5"
  }
 },
 "nbformat": 4,
 "nbformat_minor": 4
}
